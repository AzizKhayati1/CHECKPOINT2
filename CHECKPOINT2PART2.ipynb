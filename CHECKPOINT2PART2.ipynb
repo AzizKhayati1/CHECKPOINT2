{
 "cells": [
  {
   "cell_type": "code",
   "execution_count": 4,
   "id": "50f68468-ddf8-488d-813f-b464f1684a65",
   "metadata": {},
   "outputs": [
    {
     "name": "stdin",
     "output_type": "stream",
     "text": [
      "ekteb ismek  ele\n"
     ]
    },
    {
     "name": "stdout",
     "output_type": "stream",
     "text": [
      "ala\n"
     ]
    }
   ],
   "source": [
    "#Question6.prototype\n",
    "ism = input(\"ekteb ismek \")\n",
    "ismekjdid = ism.replace(\"e\",\"a\")\n",
    "print(ismekjdid) \n"
   ]
  },
  {
   "cell_type": "code",
   "execution_count": null,
   "id": "7258e31e-74ff-4671-92da-10a7a2a9df1c",
   "metadata": {},
   "outputs": [],
   "source": [
    "#question6 try1\n",
    "def odd_values_string(str) : \n",
    "    removed = \"\" \n",
    "    for i in range (len(str)):\n",
    "        if i % 2 == 0 :\n",
    "             removed = removed + str[i]\n",
    "        return  removed  \n",
    "print(odd_values_string(\"hello team\"))  \n",
    "\n",
    "\n",
    "    \n",
    "        \n",
    "        \n",
    "            \n",
    "        \n",
    "    "
   ]
  },
  {
   "cell_type": "code",
   "execution_count": null,
   "id": "464f0666-1534-4a37-9b98-d1aee29b44d5",
   "metadata": {},
   "outputs": [],
   "source": [
    "\n",
    "\n",
    "\n",
    "\n",
    "#Question7Discount\n",
    "price = input(\"write down a price\")\n",
    "x = int(price) \n",
    "if x >= 500 :\n",
    "    discount = x / 2\n",
    "    newprice = x - discount\n",
    "elif x >= 200 and x < 500 : \n",
    "    discount = (x * 30) / 100 \n",
    "    newprice = x - discount \n",
    "elif x < 200 : \n",
    "    discount = x / 10 \n",
    "    newprice = x - discount\n",
    "print(newprice) \n",
    " \n",
    "     \n",
    "    \n"
   ]
  },
  {
   "cell_type": "code",
   "execution_count": null,
   "id": "3c78d8eb-9c75-43c0-ba3d-c160e6572cc4",
   "metadata": {},
   "outputs": [],
   "source": []
  }
 ],
 "metadata": {
  "kernelspec": {
   "display_name": "Python 3",
   "language": "python",
   "name": "python3"
  },
  "language_info": {
   "codemirror_mode": {
    "name": "ipython",
    "version": 3
   },
   "file_extension": ".py",
   "mimetype": "text/x-python",
   "name": "python",
   "nbconvert_exporter": "python",
   "pygments_lexer": "ipython3",
   "version": "3.8.8"
  }
 },
 "nbformat": 4,
 "nbformat_minor": 5
}
