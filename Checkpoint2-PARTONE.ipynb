{
 "cells": [
  {
   "cell_type": "code",
   "execution_count": null,
   "id": "a9419e74-e43b-4e2b-9dce-67152caa297a",
   "metadata": {},
   "outputs": [],
   "source": [
    "#question1\n",
    "firstname =input(\"Write your firstname\") \n",
    "lastname = input(\"write your lastname\")\n",
    "x=firstname +(\" \")+ lastname #aziz khayati \n",
    "A=x[(len(firstname)+1):len(x)] #khayati\n",
    "B=x[0:len(firstname)]\n",
    "C=\" \" \n",
    "print(A+C+B) "
   ]
  },
  {
   "cell_type": "code",
   "execution_count": null,
   "id": "469cc210-a113-4931-8e18-d26d13533ada",
   "metadata": {},
   "outputs": [],
   "source": [
    "#question2 \n",
    "n = input(\"write a number\")\n",
    "CH1 = n \n",
    "CH2 = n+n\n",
    "CH3 = n+n+n\n",
    "X1=int(CH1)\n",
    "X2=int(CH2)\n",
    "X3=int(CH3)\n",
    "X=X1+X2+X3\n",
    "print(X)"
   ]
  },
  {
   "cell_type": "code",
   "execution_count": 3,
   "id": "1ae6c130-871c-4659-af13-56238d2b2730",
   "metadata": {},
   "outputs": [
    {
     "name": "stdin",
     "output_type": "stream",
     "text": [
      "write a number 2\n"
     ]
    },
    {
     "name": "stdout",
     "output_type": "stream",
     "text": [
      "the number is even\n"
     ]
    }
   ],
   "source": [
    "#question3\n",
    "number=input('write a number')\n",
    "X=int(number)\n",
    "if X%2 == 0 :\n",
    "    print(\"the number is even\")\n",
    "else :\n",
    "    print(\"the number is odd \")"
   ]
  },
  {
   "cell_type": "code",
   "execution_count": 10,
   "id": "7b98c11c-4954-4a73-8679-07fa06439b1b",
   "metadata": {},
   "outputs": [
    {
     "name": "stdin",
     "output_type": "stream",
     "text": [
      "write a number between 2000 and 3200  2407\n"
     ]
    },
    {
     "name": "stdout",
     "output_type": "stream",
     "text": [
      "there are no numbers\n"
     ]
    }
   ],
   "source": [
    "#question4 \n",
    "X=input(\"write a number between 2000 and 3200 \")\n",
    "Y=int(X)\n",
    "sum =2000\n",
    "i=1\n",
    "while i <= 1200 :\n",
    "    sum=sum+i \n",
    "    i=i+1 \n",
    "if Y % 7 == 0 and Y % 45 !=0 :\n",
    "    print(Y,end=\" \")\n",
    "else :\n",
    "    print(\"there are no numbers\")\n",
    "    "
   ]
  },
  {
   "cell_type": "code",
   "execution_count": 1,
   "id": "d462762c-a908-4acf-baa7-6a9799130694",
   "metadata": {},
   "outputs": [
    {
     "name": "stdin",
     "output_type": "stream",
     "text": [
      "write down a number 15\n"
     ]
    },
    {
     "name": "stdout",
     "output_type": "stream",
     "text": [
      "15 != 210\n",
      "15 != 180\n",
      "15 != 135\n",
      "15 != 75\n",
      "15 != 0\n",
      "15 != -90\n",
      "15 != -195\n",
      "15 != -315\n",
      "15 != -450\n",
      "15 != -600\n",
      "15 != -765\n",
      "15 != -945\n",
      "15 != -1140\n",
      "15 != -1350\n",
      "15 != -1575\n"
     ]
    }
   ],
   "source": [
    "#question5_TRY1 \n",
    "x=input(\"write down a number\")\n",
    "S=int(x)\n",
    "if S==1 :\n",
    "    print(\"1!=1\")\n",
    "elif S==0 :\n",
    "    print(0!=1) \n",
    "else : \n",
    "    i=1\n",
    "    sum = S\n",
    "    while i >=1 and i<= S :\n",
    "        sum = sum - i\n",
    "        i = i + 1 \n",
    "        print(S,\"!=\",S*sum)\n",
    "        \n",
    " \n",
    "\n",
    "    \n",
    "    \n",
    "\n"
   ]
  },
  {
   "cell_type": "code",
   "execution_count": 2,
   "id": "261566aa-9048-47e4-ac8f-85659c35790f",
   "metadata": {},
   "outputs": [
    {
     "name": "stdin",
     "output_type": "stream",
     "text": [
      "Type a number:  8\n"
     ]
    },
    {
     "name": "stdout",
     "output_type": "stream",
     "text": [
      "40320\n"
     ]
    }
   ],
   "source": [
    "#QUESTION5TRY2\n",
    "def factorial(n):\n",
    "    value = 1\n",
    "    for i in range(1, n+1):\n",
    "        value = value * i\n",
    "    return value\n",
    "\n",
    "number = int(input(\"Type a number: \"))\n",
    "print(factorial(number))\n",
    "\n",
    "\n"
   ]
  },
  {
   "cell_type": "raw",
   "id": "3195053e-3c74-42a4-8af7-eee45a93ddf2",
   "metadata": {},
   "source": []
  },
  {
   "cell_type": "code",
   "execution_count": null,
   "id": "c843f4fd-d3bc-43d1-b6da-e0474dd83d0e",
   "metadata": {},
   "outputs": [],
   "source": []
  },
  {
   "cell_type": "code",
   "execution_count": null,
   "id": "3af7d037-8a9e-4d6b-8e71-d7d3a63f03fa",
   "metadata": {},
   "outputs": [],
   "source": []
  }
 ],
 "metadata": {
  "kernelspec": {
   "display_name": "Python 3",
   "language": "python",
   "name": "python3"
  },
  "language_info": {
   "codemirror_mode": {
    "name": "ipython",
    "version": 3
   },
   "file_extension": ".py",
   "mimetype": "text/x-python",
   "name": "python",
   "nbconvert_exporter": "python",
   "pygments_lexer": "ipython3",
   "version": "3.8.8"
  }
 },
 "nbformat": 4,
 "nbformat_minor": 5
}
